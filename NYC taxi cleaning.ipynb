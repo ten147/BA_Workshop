{
 "cells": [
  {
   "cell_type": "markdown",
   "metadata": {},
   "source": [
    "## Taxi Trip Duration Data Cleaning "
   ]
  },
  {
   "cell_type": "code",
   "execution_count": 1,
   "metadata": {},
   "outputs": [],
   "source": [
    "import pandas as pd"
   ]
  },
  {
   "cell_type": "code",
   "execution_count": 2,
   "metadata": {},
   "outputs": [],
   "source": [
    "train = pd.read_csv('train.csv')"
   ]
  },
  {
   "cell_type": "code",
   "execution_count": 3,
   "metadata": {},
   "outputs": [
    {
     "data": {
      "text/plain": [
       "(1458644, 11)"
      ]
     },
     "execution_count": 3,
     "metadata": {},
     "output_type": "execute_result"
    }
   ],
   "source": [
    "train.shape"
   ]
  },
  {
   "cell_type": "code",
   "execution_count": 4,
   "metadata": {},
   "outputs": [
    {
     "name": "stdout",
     "output_type": "stream",
     "text": [
      "<class 'pandas.core.frame.DataFrame'>\n",
      "RangeIndex: 1458644 entries, 0 to 1458643\n",
      "Data columns (total 11 columns):\n",
      "id                    1458644 non-null object\n",
      "vendor_id             1458644 non-null int64\n",
      "pickup_datetime       1458644 non-null object\n",
      "dropoff_datetime      1458644 non-null object\n",
      "passenger_count       1458644 non-null int64\n",
      "pickup_longitude      1458644 non-null float64\n",
      "pickup_latitude       1458644 non-null float64\n",
      "dropoff_longitude     1458644 non-null float64\n",
      "dropoff_latitude      1458644 non-null float64\n",
      "store_and_fwd_flag    1458644 non-null object\n",
      "trip_duration         1458644 non-null int64\n",
      "dtypes: float64(4), int64(3), object(4)\n",
      "memory usage: 122.4+ MB\n"
     ]
    }
   ],
   "source": [
    "train.info()"
   ]
  },
  {
   "cell_type": "code",
   "execution_count": 5,
   "metadata": {},
   "outputs": [
    {
     "data": {
      "text/plain": [
       "(145864, 11)"
      ]
     },
     "execution_count": 5,
     "metadata": {},
     "output_type": "execute_result"
    }
   ],
   "source": [
    "# randomly sample 10% of the original dataset\n",
    "df = train.sample(frac = 0.1, random_state = 12345)\n",
    "df.shape"
   ]
  },
  {
   "cell_type": "code",
   "execution_count": 6,
   "metadata": {},
   "outputs": [],
   "source": [
    "# remove trips with duration longer than 2 hrs\n",
    "df['trip_duration_min'] = df['trip_duration']/60\n",
    "df = df[df['trip_duration_min'] < 120]"
   ]
  },
  {
   "cell_type": "code",
   "execution_count": 7,
   "metadata": {},
   "outputs": [
    {
     "data": {
      "text/html": [
       "<div>\n",
       "<style scoped>\n",
       "    .dataframe tbody tr th:only-of-type {\n",
       "        vertical-align: middle;\n",
       "    }\n",
       "\n",
       "    .dataframe tbody tr th {\n",
       "        vertical-align: top;\n",
       "    }\n",
       "\n",
       "    .dataframe thead th {\n",
       "        text-align: right;\n",
       "    }\n",
       "</style>\n",
       "<table border=\"1\" class=\"dataframe\">\n",
       "  <thead>\n",
       "    <tr style=\"text-align: right;\">\n",
       "      <th></th>\n",
       "      <th>id</th>\n",
       "      <th>vendor_id</th>\n",
       "      <th>pickup_datetime</th>\n",
       "      <th>dropoff_datetime</th>\n",
       "      <th>passenger_count</th>\n",
       "      <th>pickup_longitude</th>\n",
       "      <th>pickup_latitude</th>\n",
       "      <th>dropoff_longitude</th>\n",
       "      <th>dropoff_latitude</th>\n",
       "      <th>store_and_fwd_flag</th>\n",
       "      <th>trip_duration</th>\n",
       "      <th>trip_duration_min</th>\n",
       "      <th>pickup_hour</th>\n",
       "      <th>pickup_weekday</th>\n",
       "      <th>dropoff_hour</th>\n",
       "      <th>dropoff_weekday</th>\n",
       "    </tr>\n",
       "  </thead>\n",
       "  <tbody>\n",
       "    <tr>\n",
       "      <th>676091</th>\n",
       "      <td>id3159139</td>\n",
       "      <td>1</td>\n",
       "      <td>2016-05-15 02:27:17</td>\n",
       "      <td>2016-05-15 02:30:13</td>\n",
       "      <td>1</td>\n",
       "      <td>-73.982048</td>\n",
       "      <td>40.727985</td>\n",
       "      <td>-73.977142</td>\n",
       "      <td>40.733807</td>\n",
       "      <td>N</td>\n",
       "      <td>176</td>\n",
       "      <td>2.933333</td>\n",
       "      <td>2</td>\n",
       "      <td>Sunday</td>\n",
       "      <td>2</td>\n",
       "      <td>Sunday</td>\n",
       "    </tr>\n",
       "    <tr>\n",
       "      <th>259910</th>\n",
       "      <td>id2239505</td>\n",
       "      <td>2</td>\n",
       "      <td>2016-06-01 12:20:08</td>\n",
       "      <td>2016-06-01 12:31:09</td>\n",
       "      <td>1</td>\n",
       "      <td>-73.974159</td>\n",
       "      <td>40.762939</td>\n",
       "      <td>-73.976540</td>\n",
       "      <td>40.759239</td>\n",
       "      <td>N</td>\n",
       "      <td>661</td>\n",
       "      <td>11.016667</td>\n",
       "      <td>12</td>\n",
       "      <td>Wednesday</td>\n",
       "      <td>12</td>\n",
       "      <td>Wednesday</td>\n",
       "    </tr>\n",
       "    <tr>\n",
       "      <th>1953</th>\n",
       "      <td>id3478777</td>\n",
       "      <td>1</td>\n",
       "      <td>2016-04-24 15:52:41</td>\n",
       "      <td>2016-04-24 16:19:18</td>\n",
       "      <td>1</td>\n",
       "      <td>-73.961739</td>\n",
       "      <td>40.811150</td>\n",
       "      <td>-73.973663</td>\n",
       "      <td>40.757576</td>\n",
       "      <td>N</td>\n",
       "      <td>1597</td>\n",
       "      <td>26.616667</td>\n",
       "      <td>15</td>\n",
       "      <td>Sunday</td>\n",
       "      <td>16</td>\n",
       "      <td>Sunday</td>\n",
       "    </tr>\n",
       "    <tr>\n",
       "      <th>1220368</th>\n",
       "      <td>id3115554</td>\n",
       "      <td>2</td>\n",
       "      <td>2016-02-09 07:32:23</td>\n",
       "      <td>2016-02-09 07:41:55</td>\n",
       "      <td>6</td>\n",
       "      <td>-73.967339</td>\n",
       "      <td>40.766239</td>\n",
       "      <td>-73.956276</td>\n",
       "      <td>40.784359</td>\n",
       "      <td>N</td>\n",
       "      <td>572</td>\n",
       "      <td>9.533333</td>\n",
       "      <td>7</td>\n",
       "      <td>Tuesday</td>\n",
       "      <td>7</td>\n",
       "      <td>Tuesday</td>\n",
       "    </tr>\n",
       "    <tr>\n",
       "      <th>581265</th>\n",
       "      <td>id2075806</td>\n",
       "      <td>2</td>\n",
       "      <td>2016-05-26 02:05:09</td>\n",
       "      <td>2016-05-26 02:09:06</td>\n",
       "      <td>1</td>\n",
       "      <td>-73.999649</td>\n",
       "      <td>40.728306</td>\n",
       "      <td>-73.996376</td>\n",
       "      <td>40.737839</td>\n",
       "      <td>N</td>\n",
       "      <td>237</td>\n",
       "      <td>3.950000</td>\n",
       "      <td>2</td>\n",
       "      <td>Thursday</td>\n",
       "      <td>2</td>\n",
       "      <td>Thursday</td>\n",
       "    </tr>\n",
       "  </tbody>\n",
       "</table>\n",
       "</div>"
      ],
      "text/plain": [
       "                id  vendor_id     pickup_datetime    dropoff_datetime  \\\n",
       "676091   id3159139          1 2016-05-15 02:27:17 2016-05-15 02:30:13   \n",
       "259910   id2239505          2 2016-06-01 12:20:08 2016-06-01 12:31:09   \n",
       "1953     id3478777          1 2016-04-24 15:52:41 2016-04-24 16:19:18   \n",
       "1220368  id3115554          2 2016-02-09 07:32:23 2016-02-09 07:41:55   \n",
       "581265   id2075806          2 2016-05-26 02:05:09 2016-05-26 02:09:06   \n",
       "\n",
       "         passenger_count  pickup_longitude  pickup_latitude  \\\n",
       "676091                 1        -73.982048        40.727985   \n",
       "259910                 1        -73.974159        40.762939   \n",
       "1953                   1        -73.961739        40.811150   \n",
       "1220368                6        -73.967339        40.766239   \n",
       "581265                 1        -73.999649        40.728306   \n",
       "\n",
       "         dropoff_longitude  dropoff_latitude store_and_fwd_flag  \\\n",
       "676091          -73.977142         40.733807                  N   \n",
       "259910          -73.976540         40.759239                  N   \n",
       "1953            -73.973663         40.757576                  N   \n",
       "1220368         -73.956276         40.784359                  N   \n",
       "581265          -73.996376         40.737839                  N   \n",
       "\n",
       "         trip_duration  trip_duration_min  pickup_hour pickup_weekday  \\\n",
       "676091             176           2.933333            2         Sunday   \n",
       "259910             661          11.016667           12      Wednesday   \n",
       "1953              1597          26.616667           15         Sunday   \n",
       "1220368            572           9.533333            7        Tuesday   \n",
       "581265             237           3.950000            2       Thursday   \n",
       "\n",
       "         dropoff_hour dropoff_weekday  \n",
       "676091              2          Sunday  \n",
       "259910             12       Wednesday  \n",
       "1953               16          Sunday  \n",
       "1220368             7         Tuesday  \n",
       "581265              2        Thursday  "
      ]
     },
     "execution_count": 7,
     "metadata": {},
     "output_type": "execute_result"
    }
   ],
   "source": [
    "# extract weekday and hour info from datetime columns\n",
    "df['pickup_datetime'] = pd.to_datetime(df['pickup_datetime'])\n",
    "df['dropoff_datetime'] = pd.to_datetime(df['dropoff_datetime'])\n",
    "\n",
    "df['pickup_hour'] = df.pickup_datetime.dt.hour\n",
    "df['pickup_weekday'] = df.pickup_datetime.dt.weekday_name\n",
    "df['dropoff_hour'] = df.dropoff_datetime.dt.hour\n",
    "df['dropoff_weekday'] = df.dropoff_datetime.dt.weekday_name\n",
    "\n",
    "df.head()"
   ]
  },
  {
   "cell_type": "code",
   "execution_count": 8,
   "metadata": {},
   "outputs": [],
   "source": [
    "# Export cleaned data as csv\n",
    "df.to_csv('taxi_sample.csv')"
   ]
  }
 ],
 "metadata": {
  "kernelspec": {
   "display_name": "Python 3",
   "language": "python",
   "name": "python3"
  },
  "language_info": {
   "codemirror_mode": {
    "name": "ipython",
    "version": 3
   },
   "file_extension": ".py",
   "mimetype": "text/x-python",
   "name": "python",
   "nbconvert_exporter": "python",
   "pygments_lexer": "ipython3",
   "version": "3.6.5"
  }
 },
 "nbformat": 4,
 "nbformat_minor": 2
}
